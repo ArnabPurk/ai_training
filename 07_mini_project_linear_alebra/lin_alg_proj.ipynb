{
 "cells": [
  {
   "cell_type": "code",
   "execution_count": null,
   "metadata": {},
   "outputs": [
    {
     "name": "stdout",
     "output_type": "stream",
     "text": [
      "Generated vector: [-2.66166645  4.29878123  5.16757154]\n"
     ]
    }
   ],
   "source": [
    "import numpy as np\n",
    "\n",
    "def generate_random_vectors(dimension, num_vectors):\n",
    "    \"\"\"Generate random vectors in 2D or 3D space.\"\"\"\n",
    "    return [np.random.randint(-10, 10, size=dimension) for _ in range(num_vectors)]\n",
    "\n",
    "def input_vectors():\n",
    "    \"\"\"Input vectors interactively or generate randomly.\"\"\"\n",
    "    print(\"Choose how to provide vectors:\")\n",
    "    print(\"1. Enter vectors manually\")\n",
    "    print(\"2. Generate random vectors\")\n",
    "    choice = input(\"Enter your choice (1/2): \")\n",
    "    if choice == \"1\":\n",
    "        print(\"Enter vectors in 2D or 3D space as space-separated numbers (e.g., '1 2' or '1 2 3'). Enter 'done' to finish:\")\n",
    "        vectors = []\n",
    "        dim = None\n",
    "        while True:\n",
    "            inp = input(f\"Vector {len(vectors) + 1}: \")\n",
    "            if inp.lower() == \"done\":\n",
    "                break\n",
    "            try:\n",
    "                vector = list(map(int, inp.split()))\n",
    "                if dim is None:\n",
    "                    dim = len(vector)\n",
    "                if len(vector) != dim:\n",
    "                    print(f\"Please enter a vector of dimension {dim}.\")\n",
    "                else:\n",
    "                    vectors.append(vector)\n",
    "            except ValueError:\n",
    "                print(\"Invalid input. Please enter space-separated integers.\")\n",
    "    elif choice == \"2\":\n",
    "        dim = int(input(\"Enter the dimension (2 or 3): \"))\n",
    "        num_vectors = int(input(\"Enter the number of vectors: \"))\n",
    "        vectors = generate_random_vectors(dim, num_vectors)\n",
    "        print(f\"Generated vectors: {vectors}\")\n",
    "    else:\n",
    "        print(\"Invalid choice. Exiting.\")\n",
    "        return None, None\n",
    "    return np.array(vectors), dim\n",
    "\n",
    "# Example usage:\n",
    "if __name__ == \"__main__\":\n",
    "    # User can choose the mode and dimension\n",
    "    mode = input(\"Enter mode ('input' or 'random'): \").strip().lower()\n",
    "    dimension = int(input(\"Enter vector dimension (2 or 3): \"))\n",
    "    vector = create_vector(dimension=dimension, mode=mode)\n",
    "    print(f\"Generated vector: {vector}\")"
   ]
  },
  {
   "cell_type": "code",
   "execution_count": 2,
   "metadata": {},
   "outputs": [
    {
     "name": "stdout",
     "output_type": "stream",
     "text": [
      "Enter the components of a 2D vector:\n"
     ]
    }
   ],
   "source": [
    "z = create_vector()"
   ]
  },
  {
   "cell_type": "code",
   "execution_count": 3,
   "metadata": {},
   "outputs": [
    {
     "data": {
      "text/plain": [
       "array([3., 4.])"
      ]
     },
     "execution_count": 3,
     "metadata": {},
     "output_type": "execute_result"
    }
   ],
   "source": [
    "z"
   ]
  },
  {
   "cell_type": "code",
   "execution_count": 4,
   "metadata": {},
   "outputs": [
    {
     "name": "stdout",
     "output_type": "stream",
     "text": [
      "The vectors are linearly independent.\n",
      "The vectors are linearly dependent.\n",
      "The vectors are linearly dependent.\n"
     ]
    }
   ],
   "source": [
    "import numpy as np\n",
    "\n",
    "def check_linear_independence(vectors):\n",
    "    \"\"\"\n",
    "    Check if a set of vectors is linearly independent or dependent.\n",
    "\n",
    "    Parameters:\n",
    "        vectors (list of list or numpy.ndarray): List of vectors or 2D NumPy array where each row is a vector.\n",
    "\n",
    "    Returns:\n",
    "        str: A message indicating whether the vectors are linearly independent or dependent.\n",
    "    \"\"\"\n",
    "    # Convert the input to a NumPy array\n",
    "    matrix = np.array(vectors)\n",
    "    \n",
    "    # Get the rank of the matrix\n",
    "    rank = np.linalg.matrix_rank(matrix)\n",
    "    \n",
    "    # Compare the rank with the number of vectors\n",
    "    if rank == len(vectors):\n",
    "        return \"The vectors are linearly independent.\"\n",
    "    else:\n",
    "        return \"The vectors are linearly dependent.\"\n",
    "\n",
    "# Example usage\n",
    "if __name__ == \"__main__\":\n",
    "    # Example: Linearly independent vectors in R^2\n",
    "    vectors1 = [[1, 0], [0, 1]]\n",
    "    print(check_linear_independence(vectors1))  # Output: Linearly independent\n",
    "\n",
    "    # Example: Linearly dependent vectors in R^2\n",
    "    vectors2 = [[1, 2], [2, 4]]\n",
    "    print(check_linear_independence(vectors2))  # Output: Linearly dependent\n",
    "\n",
    "    # Example: Linearly dependent vectors in R^3\n",
    "    vectors3 = [[1, 2, 3], [2, 4, 6], [3, 6, 9]]\n",
    "    print(check_linear_independence(vectors3))  # Output: Linearly dependent\n"
   ]
  },
  {
   "cell_type": "code",
   "execution_count": 5,
   "metadata": {},
   "outputs": [
    {
     "name": "stdout",
     "output_type": "stream",
     "text": [
      "Enter the components of a 3D vector:\n",
      "Enter the components of a 3D vector:\n"
     ]
    }
   ],
   "source": [
    "z1 = create_vector(3)\n",
    "z2 = create_vector(3)"
   ]
  },
  {
   "cell_type": "code",
   "execution_count": 6,
   "metadata": {},
   "outputs": [
    {
     "data": {
      "text/plain": [
       "array([1., 5., 3.])"
      ]
     },
     "execution_count": 6,
     "metadata": {},
     "output_type": "execute_result"
    }
   ],
   "source": [
    "z2"
   ]
  },
  {
   "cell_type": "code",
   "execution_count": 7,
   "metadata": {},
   "outputs": [
    {
     "data": {
      "text/plain": [
       "array([2., 5., 7.])"
      ]
     },
     "execution_count": 7,
     "metadata": {},
     "output_type": "execute_result"
    }
   ],
   "source": [
    "z1"
   ]
  },
  {
   "cell_type": "code",
   "execution_count": 13,
   "metadata": {},
   "outputs": [
    {
     "data": {
      "text/plain": [
       "2"
      ]
     },
     "execution_count": 13,
     "metadata": {},
     "output_type": "execute_result"
    }
   ],
   "source": [
    "len(np.array([z1,z2]))"
   ]
  },
  {
   "cell_type": "code",
   "execution_count": 15,
   "metadata": {},
   "outputs": [
    {
     "data": {
      "text/plain": [
       "'The vectors are linearly independent.'"
      ]
     },
     "execution_count": 15,
     "metadata": {},
     "output_type": "execute_result"
    }
   ],
   "source": [
    "check_linear_independence([z1,z2])"
   ]
  },
  {
   "cell_type": "code",
   "execution_count": 17,
   "metadata": {},
   "outputs": [
    {
     "data": {
      "image/png": "[encoded data removed]",
      "text/plain": [
       "<Figure size 800x800 with 1 Axes>"
      ]
     },
     "metadata": {},
     "output_type": "display_data"
    }
   ],
   "source": [
    "import numpy as np\n",
    "import matplotlib.pyplot as plt\n",
    "\n",
    "def visualize_span_2d(v1, v2, scale=10, grid_size=20):\n",
    "    \"\"\"\n",
    "    Compute and visualize the span of two vectors in 2D.\n",
    "\n",
    "    Parameters:\n",
    "        v1 (list or numpy.ndarray): The first 2D vector.\n",
    "        v2 (list or numpy.ndarray): The second 2D vector.\n",
    "        scale (int): The range of scalar values for linear combinations. Default is 10.\n",
    "        grid_size (int): Number of points in each direction for the grid. Default is 20.\n",
    "    \"\"\"\n",
    "    v1 = np.array(v1)\n",
    "    v2 = np.array(v2)\n",
    "    \n",
    "    # Create a grid of scalars for linear combinations\n",
    "    t1 = np.linspace(-scale, scale, grid_size)\n",
    "    t2 = np.linspace(-scale, scale, grid_size)\n",
    "    t1, t2 = np.meshgrid(t1, t2)\n",
    "    \n",
    "    # Compute the linear combinations of v1 and v2\n",
    "    x = t1 * v1[0] + t2 * v2[0]\n",
    "    y = t1 * v1[1] + t2 * v2[1]\n",
    "    \n",
    "    # Plotting the span\n",
    "    plt.figure(figsize=(8, 8))\n",
    "    plt.quiver(0, 0, v1[0], v1[1], angles='xy', scale_units='xy', scale=1, color='blue', label='v1')\n",
    "    plt.quiver(0, 0, v2[0], v2[1], angles='xy', scale_units='xy', scale=1, color='red', label='v2')\n",
    "    plt.scatter(x, y, color='gray', s=1, alpha=0.5, label='Span')\n",
    "    \n",
    "    # Formatting the plot\n",
    "    plt.axhline(0, color='black', linewidth=0.5)\n",
    "    plt.axvline(0, color='black', linewidth=0.5)\n",
    "    plt.xlim(-scale * 2, scale * 2)\n",
    "    plt.ylim(-scale * 2, scale * 2)\n",
    "    plt.gca().set_aspect('equal', adjustable='box')\n",
    "    plt.grid(True, linestyle='--', linewidth=0.5)\n",
    "    plt.legend()\n",
    "    plt.title(\"Span of Vectors in 2D\")\n",
    "    plt.xlabel(\"x\")\n",
    "    plt.ylabel(\"y\")\n",
    "    plt.show()\n",
    "\n",
    "# Example usage\n",
    "if __name__ == \"__main__\":\n",
    "    v1 = z1  # First vector\n",
    "    v2 = z2 # Second vector\n",
    "    visualize_span_2d(v1, v2)\n"
   ]
  },
  {
   "cell_type": "code",
   "execution_count": 20,
   "metadata": {},
   "outputs": [
    {
     "name": "stdout",
     "output_type": "stream",
     "text": [
      "Basis for the span of vectors1:\n",
      "[[1. 2. 3.]\n",
      " [1. 0. 1.]]\n",
      "\n",
      "Basis for the span of vectors2:\n",
      "[[1. 0.]\n",
      " [0. 1.]]\n"
     ]
    }
   ],
   "source": [
    "import numpy as np\n",
    "\n",
    "def find_basis(vectors):\n",
    "    \"\"\"\n",
    "    Find a basis for the span of the given set of vectors.\n",
    "\n",
    "    Parameters:\n",
    "        vectors (list of list or numpy.ndarray): List of vectors or 2D NumPy array where each row is a vector.\n",
    "\n",
    "    Returns:\n",
    "        numpy.ndarray: A 2D array where each row is a basis vector.\n",
    "    \"\"\"\n",
    "    # Convert the input to a NumPy array\n",
    "    matrix = np.array(vectors, dtype=float)\n",
    "\n",
    "    # Perform row-reduction (Gaussian elimination)\n",
    "    q, r = np.linalg.qr(matrix.T)  # Transpose for QR decomposition\n",
    "    independent_indices = np.where(np.abs(np.diagonal(r)) > 1e-10)[0]  # Identify independent columns\n",
    "    \n",
    "    # Extract linearly independent vectors\n",
    "    basis = matrix[independent_indices]\n",
    "    \n",
    "    return basis\n",
    "\n",
    "# Example usage\n",
    "if __name__ == \"__main__\":\n",
    "    # Example 1: Dependent vectors in R^3\n",
    "    vectors1 = [\n",
    "        [1, 2, 3],\n",
    "        [2, 4, 6],\n",
    "        [1, 0, 1]\n",
    "    ]\n",
    "    basis1 = find_basis(vectors1)\n",
    "    print(\"Basis for the span of vectors1:\")\n",
    "    print(basis1)\n",
    "\n",
    "    # Example 2: Vectors in R^2\n",
    "    vectors2 = [\n",
    "        [1, 0],\n",
    "        [0, 1],\n",
    "        [1, 1]\n",
    "    ]\n",
    "    basis2 = find_basis(vectors2)\n",
    "    print(\"\\nBasis for the span of vectors2:\")\n",
    "    print(basis2)\n"
   ]
  },
  {
   "cell_type": "code",
   "execution_count": 21,
   "metadata": {},
   "outputs": [
    {
     "name": "stdout",
     "output_type": "stream",
     "text": [
      "Coefficients for the linear combination:\n",
      "[2. 3. 4.]\n"
     ]
    }
   ],
   "source": [
    "import numpy as np\n",
    "\n",
    "def find_linear_combination(vectors, target):\n",
    "    \"\"\"\n",
    "    Find the coefficients for the linear combination of vectors that results in the target vector.\n",
    "\n",
    "    Parameters:\n",
    "        vectors (list of list or numpy.ndarray): List of vectors or 2D NumPy array where each column is a vector.\n",
    "        target (list or numpy.ndarray): The target vector to represent as a linear combination.\n",
    "\n",
    "    Returns:\n",
    "        numpy.ndarray: Coefficients for the linear combination.\n",
    "    \"\"\"\n",
    "    # Convert input to NumPy arrays\n",
    "    A = np.array(vectors).T  # Columns of A are the input vectors\n",
    "    R = np.array(target)\n",
    "    \n",
    "    # Solve the equation A * x = R\n",
    "    try:\n",
    "        # Use least squares to handle both square and non-square systems\n",
    "        coefficients, residuals, rank, _ = np.linalg.lstsq(A, R, rcond=None)\n",
    "        return coefficients\n",
    "    except np.linalg.LinAlgError:\n",
    "        raise ValueError(\"Cannot solve the system; the vectors may be linearly dependent or inconsistent.\")\n",
    "\n",
    "# Example usage\n",
    "if __name__ == \"__main__\":\n",
    "    # Define vectors v1, v2, v3\n",
    "    v1 = [1, 0, 0]\n",
    "    v2 = [0, 1, 0]\n",
    "    v3 = [0, 0, 1]\n",
    "    vectors = [v1, v2, v3]  # Combine into a list\n",
    "    \n",
    "    # Define the target vector R\n",
    "    R = [2, 3, 4]\n",
    "    \n",
    "    # Find coefficients\n",
    "    coefficients = find_linear_combination(vectors, R)\n",
    "    print(\"Coefficients for the linear combination:\")\n",
    "    print(coefficients)\n"
   ]
  },
  {
   "cell_type": "code",
   "execution_count": null,
   "metadata": {},
   "outputs": [],
   "source": []
  }
 ],
 "metadata": {
  "kernelspec": {
   "display_name": "env",
   "language": "python",
   "name": "python3"
  },
  "language_info": {
   "codemirror_mode": {
    "name": "ipython",
    "version": 3
   },
   "file_extension": ".py",
   "mimetype": "text/x-python",
   "name": "python",
   "nbconvert_exporter": "python",
   "pygments_lexer": "ipython3",
   "version": "3.13.0"
  }
 },
 "nbformat": 4,
 "nbformat_minor": 2
}
