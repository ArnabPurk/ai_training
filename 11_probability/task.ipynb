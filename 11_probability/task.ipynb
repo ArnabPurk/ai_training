{
 "cells": [
  {
   "cell_type": "markdown",
   "metadata": {},
   "source": [
    "## Import required libraries"
   ]
  },
  {
   "cell_type": "code",
   "execution_count": null,
   "metadata": {},
   "outputs": [],
   "source": [
    "import numpy as np\n",
    "import pandas as pd\n",
    "import matplotlib.pyplot as plt\n",
    "import seaborn as sns\n",
    "import math"
   ]
  },
  {
   "cell_type": "markdown",
   "metadata": {},
   "source": [
    "## Question 1"
   ]
  },
  {
   "cell_type": "markdown",
   "metadata": {},
   "source": [
    "Simulate a Discrete Probability Distribution\n",
    "a. Write Python code to simulate a discrete random variable representing a die\n",
    "roll (numbers 1 through 6).\n",
    "b. Generate 10,000 random rolls of a fair die using NumPy.\n",
    "c. Plot the probability mass function (PMF) using a bar plot."
   ]
  },
  {
   "cell_type": "code",
   "execution_count": 65,
   "metadata": {},
   "outputs": [
    {
     "name": "stdout",
     "output_type": "stream",
     "text": [
      "Rolling a dice once: \n",
      "Answer = 3\n",
      "10000 random rolls: \n",
      "Answer = [5 6 4 ... 3 5 1]\n",
      "Plotting the probability mass function: \n",
      "             count\n",
      "dice_value        \n",
      "1           0.1625\n",
      "2           0.1646\n",
      "3           0.1700\n",
      "4           0.1612\n",
      "5           0.1714\n",
      "6           0.1703\n"
     ]
    },
    {
     "data": {
      "image/png": "[encoded data removed]",
      "text/plain": [
       "<Figure size 640x480 with 1 Axes>"
      ]
     },
     "metadata": {},
     "output_type": "display_data"
    }
   ],
   "source": [
    "def roll_dice():\n",
    "    return np.random.randint(1, 7)\n",
    "\n",
    "def ten_thoushand_roll():\n",
    "    return np.random.randint(1,7,10000)\n",
    "\n",
    "def plot_pmf():\n",
    "    rolls = ten_thoushand_roll()\n",
    "    df=pd.DataFrame(data=rolls,columns=\"dice_value\".split())\n",
    "    #df=df.groupby('dice_value').size() \n",
    "    count_df=df.value_counts().sort_index().rename_axis(\"dice_value\").to_frame(\"count\")\n",
    "    count_df[\"count\"]=count_df[\"count\"]/10000\n",
    "    print(count_df)\n",
    "    sns.barplot(x=\"dice_value\", y=\"count\", data=count_df)\n",
    "    plt.title('Probability Mass Function of a Six-Sided Dice')\n",
    "    plt.xlabel('Face Value')\n",
    "    plt.ylabel('Probability')\n",
    "    plt.show()\n",
    "\n",
    "def solve_1():\n",
    "    print(\"Rolling a dice once: \")\n",
    "    print(f\"Answer = {roll_dice()}\")\n",
    "    print(\"10000 random rolls: \")\n",
    "    print(f\"Answer = {ten_thoushand_roll()}\")\n",
    "    print(\"Plotting the probability mass function: \")\n",
    "    plot_pmf()\n",
    "\n",
    "solve_1()"
   ]
  },
  {
   "cell_type": "markdown",
   "metadata": {},
   "source": [
    "## Question 2"
   ]
  },
  {
   "cell_type": "markdown",
   "metadata": {},
   "source": [
    "Suppose that an examination consists of six true and false questions and assume\n",
    "that a student has no knowledge of the subject matter. The probability that the\n",
    "student will guess the correct answer to the first question is 30%. Likewise, the\n",
    "probability of guessing each of the remaining questions correctly is also 30%.\n",
    "a. What is the probability of getting exactly three correct answers?\n",
    "b. What is the probability of getting at least two correct answers?\n",
    "c. What is the probability of getting at most two correct answers?\n",
    "d. What is the probability of getting less than five correct answers?"
   ]
  },
  {
   "cell_type": "code",
   "execution_count": null,
   "metadata": {},
   "outputs": [
    {
     "name": "stdout",
     "output_type": "stream",
     "text": [
      "a. What is the probability of getting exactly three correct answers?\n",
      "answer = 0.185220\n",
      "b. What is the probability of getting at least two correct answers?\n",
      " answer = 0.579825\n",
      "c. What is the probability of getting at most two correct answers?\n",
      "answer = 0.744310\n",
      "d. What is the probability of getting less than five correct answers?\n",
      "answer = 0.989065\n"
     ]
    }
   ],
   "source": [
    "def bionomial_distribution(x,n,p):\n",
    "    return math.factorial(n) / (math.factorial(x) * math.factorial(n-x)) * (p**x) * ((1-p)**(n-x))\n",
    "\n",
    "def solve_2():\n",
    "    p=0.3\n",
    "    n=6\n",
    "    print(\"a. What is the probability of getting exactly three correct answers?\")\n",
    "    answer_a=bionomial_distribution(3,n,p)\n",
    "    print(f\"answer = {answer_a:.6f}\")\n",
    "    print(\"b. What is the probability of getting at least two correct answers?\")\n",
    "    answer_b=1-(bionomial_distribution(0,n,p)+bionomial_distribution(1,n,p))\n",
    "    print(f\" answer = {answer_b:.6f}\")\n",
    "    print(\"c. What is the probability of getting at most two correct answers?\")\n",
    "    answer_c=(bionomial_distribution(0,n,p)+bionomial_distribution(1,n,p)+bionomial_distribution(2,n,p))\n",
    "    print(f\"answer = {answer_c:.6f}\")\n",
    "    print(\"d. What is the probability of getting less than five correct answers?\")\n",
    "    answer_d=1-(bionomial_distribution(5,n,p)+bionomial_distribution(6,n,p))\n",
    "    print(f\"answer = {answer_d:.6f}\")\n",
    "    \n",
    "solve_2()"
   ]
  },
  {
   "cell_type": "markdown",
   "metadata": {},
   "source": [
    "## Question 3"
   ]
  },
  {
   "cell_type": "markdown",
   "metadata": {},
   "source": [
    "In a study of drug-induced anaphylaxis among patients taking rocuronium bromide\n",
    "as part of their anesthesia, the occurrence of anaphylaxis followed a Poisson\n",
    "distribution with λ =12 incidents per year in Norway. Find the probability that in the\n",
    "next year, among patients receiving rocuronium.\n",
    "a. Exactly three will experience anaphylaxis.\n",
    "b. At least two will experience anaphylaxis\n",
    "c. At most two-experience anaphylaxis\n"
   ]
  },
  {
   "cell_type": "code",
   "execution_count": null,
   "metadata": {},
   "outputs": [
    {
     "name": "stdout",
     "output_type": "stream",
     "text": [
      "a. Exactly three will experience anaphylaxis.\n",
      "answer = 0.001770\n",
      "b. At least two will experience anaphylaxis.\n",
      "answer = 0.999920\n",
      "c. At most two-experience anaphylaxis.\n",
      "answer = 0.000522\n"
     ]
    }
   ],
   "source": [
    "def poisson_distribution(lamda,k):\n",
    "    return (np.exp(-lamda)* np.power(lamda,k))/ math.factorial(k)\n",
    "\n",
    "def solve_3():\n",
    "    lamda=12\n",
    "    print(\"a. Exactly three will experience anaphylaxis.\")\n",
    "    answer_a=poisson_distribution(lamda,3)\n",
    "    print(f\"answer = {answer_a:.6f}\")\n",
    "    print(\"b. At least two will experience anaphylaxis.\")\n",
    "    answer_b=1-(poisson_distribution(lamda,0)+poisson_distribution(lamda,1))\n",
    "    print(f\"answer = {answer_b:.6f}\")\n",
    "    print(\"c. At most two-experience anaphylaxis.\")\n",
    "    answer_c=poisson_distribution(lamda,0)+poisson_distribution(lamda,1)+poisson_distribution(lamda,2)\n",
    "    print(f\"answer = {answer_c:.6f}\")\n",
    "    \n",
    "solve_3()"
   ]
  },
  {
   "cell_type": "markdown",
   "metadata": {},
   "source": [
    "## Question 4"
   ]
  },
  {
   "cell_type": "markdown",
   "metadata": {},
   "source": [
    "Suppose mean height of 500 students is 160 cm and SD is 5 cm. If height follows\n",
    "normal distribution, then calculate the following:\n",
    "Note: to get z-score table value you can use: norm.cdf() method. To do so, just\n",
    "import as – “from scipy.stats import norm”\n",
    "a. What is the chance of height above 168 cm?\n",
    "b. What percentage of students will have height above 168 cm?\n",
    "c. How many of students will have height between 150 cm to 175cm?"
   ]
  },
  {
   "cell_type": "code",
   "execution_count": 63,
   "metadata": {},
   "outputs": [
    {
     "name": "stdout",
     "output_type": "stream",
     "text": [
      "a. What is the chance of height above 168 cm?\n",
      "answer = 0.0548\n",
      "b. What percentage of students will have height above 168 cm? \n",
      "answer = 5.480%\n",
      "c. How many of students will have height between 150 cm to 175 cm?\n",
      "answer = 488\n"
     ]
    }
   ],
   "source": [
    "from scipy.stats import norm\n",
    "def z_score(x,mean,sd):\n",
    "    return (x-mean)/sd\n",
    "\n",
    "def solve_4():\n",
    "    mean_height=160\n",
    "    sd_height=5\n",
    "    total_students=500\n",
    "    print(\"a. What is the chance of height above 168 cm?\")\n",
    "    z_score_a=z_score(168,mean_height,sd_height)\n",
    "    probability_height_above_168=1-norm.cdf(z_score_a)\n",
    "    print(f\"answer = {probability_height_above_168:.4f}\")\n",
    "    print(\"b. What percentage of students will have height above 168 cm? \")\n",
    "    percent_height_above_168=probability_height_above_168*100\n",
    "    print(f\"answer = {percent_height_above_168:.3f}%\")\n",
    "    print(\"c. How many of students will have height between 150 cm to 175 cm?\")\n",
    "    z_score_150=z_score(150,mean_height,sd_height)\n",
    "    z_score_175=z_score(175,mean_height,sd_height)\n",
    "    students_with_height_between_150_to_175=norm.cdf(z_score_175)-norm.cdf(z_score_150)\n",
    "    number_of_students_with_height_between_150_to_175=students_with_height_between_150_to_175*total_students\n",
    "    print(f\"answer = {number_of_students_with_height_between_150_to_175:.0f}\")\n",
    "\n",
    "solve_4()"
   ]
  },
  {
   "cell_type": "code",
   "execution_count": 66,
   "metadata": {},
   "outputs": [
    {
     "name": "stdout",
     "output_type": "stream",
     "text": [
      "Question 1: \n",
      "Rolling a dice once: \n",
      "Answer = 3\n",
      "10000 random rolls: \n",
      "Answer = [2 5 2 ... 6 5 3]\n",
      "Plotting the probability mass function: \n",
      "             count\n",
      "dice_value        \n",
      "1           0.1603\n",
      "2           0.1655\n",
      "3           0.1684\n",
      "4           0.1711\n",
      "5           0.1713\n",
      "6           0.1634\n"
     ]
    },
    {
     "data": {
      "image/png": "[encoded data removed]",
      "text/plain": [
       "<Figure size 640x480 with 1 Axes>"
      ]
     },
     "metadata": {},
     "output_type": "display_data"
    },
    {
     "name": "stdout",
     "output_type": "stream",
     "text": [
      "\n",
      "Question 2: \n",
      "a. What is the probability of getting exactly three correct answers?\n",
      "answer = 0.185220\n",
      "b. What is the probability of getting at least two correct answers?\n",
      " answer = 0.579825\n",
      "c. What is the probability of getting at most two correct answers?\n",
      "answer = 0.744310\n",
      "d. What is the probability of getting less than five correct answers?\n",
      "answer = 0.989065\n",
      "\n",
      "Question 3: \n",
      "a. Exactly three will experience anaphylaxis.\n",
      "answer = 0.001770\n",
      "b. At least two will experience anaphylaxis.\n",
      "answer = 0.999920\n",
      "c. At most two-experience anaphylaxis.\n",
      "answer = 0.000522\n",
      "\n",
      "Question 4: \n",
      "a. What is the chance of height above 168 cm?\n",
      "answer = 0.0548\n",
      "b. What percentage of students will have height above 168 cm? \n",
      "answer = 5.480%\n",
      "c. How many of students will have height between 150 cm to 175 cm?\n",
      "answer = 488\n"
     ]
    }
   ],
   "source": [
    "if __name__ == \"__main__\":\n",
    "    print(\"Question 1: \")\n",
    "    solve_1()\n",
    "    print(\"\\nQuestion 2: \")\n",
    "    solve_2()\n",
    "    print(\"\\nQuestion 3: \")\n",
    "    solve_3()\n",
    "    print(\"\\nQuestion 4: \")\n",
    "    solve_4()"
   ]
  },
  {
   "cell_type": "code",
   "execution_count": null,
   "metadata": {},
   "outputs": [],
   "source": []
  }
 ],
 "metadata": {
  "kernelspec": {
   "display_name": "env",
   "language": "python",
   "name": "python3"
  },
  "language_info": {
   "codemirror_mode": {
    "name": "ipython",
    "version": 3
   },
   "file_extension": ".py",
   "mimetype": "text/x-python",
   "name": "python",
   "nbconvert_exporter": "python",
   "pygments_lexer": "ipython3",
   "version": "3.13.0"
  }
 },
 "nbformat": 4,
 "nbformat_minor": 2
}
