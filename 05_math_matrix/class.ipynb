{
 "cells": [
  {
   "cell_type": "code",
   "execution_count": 1,
   "metadata": {},
   "outputs": [],
   "source": [
    "import numpy as np"
   ]
  },
  {
   "cell_type": "code",
   "execution_count": 26,
   "metadata": {},
   "outputs": [],
   "source": [
    "def input_matrix(num_rows, num_cols):\n",
    "    matrix = []\n",
    "    i = 0\n",
    "    while i < num_rows:\n",
    "        try:\n",
    "            row = list(map(int, input(f\"Row {i+1}, enter values separated by space( {num_cols}): \").split()))\n",
    "            if num_cols != len(row):\n",
    "                raise ValueError(f\"wanted {num_cols} values but got {len(row)} values\")\n",
    "            matrix.append(row)\n",
    "            i += 1  \n",
    "        except ValueError as e:\n",
    "            print(f\"Error: {e}. Please re-enter Row {i+1}.\")\n",
    "    return np.array(matrix)"
   ]
  },
  {
   "cell_type": "code",
   "execution_count": null,
   "metadata": {},
   "outputs": [
    {
     "name": "stdout",
     "output_type": "stream",
     "text": [
      "Enter the elements of the first matrix:\n",
      "[[1 2 3]\n",
      " [1 2 3]]\n",
      "Enter the elements of the second matrix:\n",
      "[[1 2 3]\n",
      " [5 6 7]]\n",
      "Subtraction of the two matrices:\n",
      "[[ 0.  0.  0.]\n",
      " [-4. -4. -4.]]\n"
     ]
    }
   ],
   "source": [
    "\n",
    "def matrix_subtraction():\n",
    "    num_of_row=int(input(\"Enter number of rows:\"))\n",
    "    num_of_col=int(input(\"Enter number of columns:\"))\n",
    "    print(\"Enter the elements of the first matrix:\")\n",
    "    matrix1=input_matrix(num_of_row, num_of_col)\n",
    "    print(matrix1)\n",
    "    print(\"Enter the elements of the second matrix:\")\n",
    "    matrix2=input_matrix(num_of_row, num_of_col)\n",
    "    print(matrix2)\n",
    "    print(\"Subtraction of the two matrices:\")\n",
    "    result=np.zeros((num_of_row, num_of_col))\n",
    "    for i in range(num_of_row):\n",
    "        for j in range(num_of_col):\n",
    "            result[i][j]=matrix1[i][j]-matrix2[i][j]\n",
    "    print(\"Subtraction result: \")\n",
    "    print(result)\n",
    "if __name__ == \"__main__\":\n",
    "    matrix_subtraction()"
   ]
  },
  {
   "cell_type": "code",
   "execution_count": null,
   "metadata": {},
   "outputs": [
    {
     "name": "stdout",
     "output_type": "stream",
     "text": [
      "Enter the elements of the matrix:\n",
      "[[1 2 3]\n",
      " [4 5 6]]\n",
      "Scalar multiplication of the matrix:\n",
      "[[ 7. 14. 21.]\n",
      " [28. 35. 42.]]\n"
     ]
    }
   ],
   "source": [
    "def scalar_multiplication():\n",
    "    num_of_row=int(input(\"Enter number of rows:\"))\n",
    "    num_of_col=int(input(\"Enter number of columns:\"))\n",
    "    print(\"Enter the elements of the matrix:\")\n",
    "    matrix=input_matrix(num_of_row, num_of_col)\n",
    "    print(matrix)\n",
    "    scalar=int(input(\"Enter scalar value:\"))\n",
    "    print(\"Scalar multiplication of the matrix:\")\n",
    "    result=np.ones((num_of_row, num_of_col))\n",
    "    for i in range(num_of_row):\n",
    "        for j in range(num_of_col):\n",
    "            result[i][j]=matrix[i][j]*scalar\n",
    "    return result\n",
    "\n",
    "if __name__ == \"__main__\":\n",
    "    scalar_multiplication()"
   ]
  },
  {
   "cell_type": "code",
   "execution_count": 29,
   "metadata": {},
   "outputs": [
    {
     "name": "stdout",
     "output_type": "stream",
     "text": [
      "Enter the elements of the first matrix:\n",
      "[[2 1 3]\n",
      " [3 1 2]]\n",
      "Enter the elements of the second matrix:\n",
      "Result of multiplication is: \n",
      "[[20. 26.]\n",
      " [16. 22.]]\n"
     ]
    }
   ],
   "source": [
    "def row_column_input():\n",
    "    check=True\n",
    "    while check:\n",
    "        try:\n",
    "            num_of_row=int(input(\"Enter number of rows:\"))\n",
    "            num_of_col=int(input(\"Enter number of columns:\"))\n",
    "            check=False\n",
    "        except ValueError as e:\n",
    "            print(f\"Error: {e}.\")\n",
    "    return (num_of_row, num_of_col)\n",
    "\n",
    "def matrix_multiplication():\n",
    "    first_matrix_row, first_matrix_column= row_column_input()\n",
    "    print(\"Enter the elements of the first matrix:\")\n",
    "    matrix1=input_matrix(first_matrix_row, first_matrix_column)\n",
    "    print(matrix1)\n",
    "    second_matrix_row, second_matrix_column= row_column_input()\n",
    "    print(\"Enter the elements of the second matrix:\")\n",
    "    matrix2=input_matrix(second_matrix_row, second_matrix_column)\n",
    "    if first_matrix_column == second_matrix_row:\n",
    "        result=np.ones((first_matrix_row, second_matrix_column))\n",
    "        for i in range(first_matrix_row):\n",
    "            for j in range(second_matrix_column):\n",
    "                result[i][j]=sum([i * j for i, j in zip(matrix1[i,:], matrix2[:,j])])\n",
    "        print(\"Result of multiplication is: \")\n",
    "        print(result)\n",
    "    else:\n",
    "        print(\"Dimension mismatch, Multiplication not possible\")\n",
    "\n",
    "if __name__ == \"__main__\":\n",
    "    matrix_multiplication()"
   ]
  },
  {
   "cell_type": "code",
   "execution_count": null,
   "metadata": {},
   "outputs": [
    {
     "name": "stdout",
     "output_type": "stream",
     "text": [
      "Enter the elements of the first matrix:\n",
      "[[1 2 3]\n",
      " [2 4 5]]\n"
     ]
    },
    {
     "data": {
      "text/plain": [
       "array([[1, 2],\n",
       "       [2, 4],\n",
       "       [3, 5]])"
      ]
     },
     "execution_count": 30,
     "metadata": {},
     "output_type": "execute_result"
    }
   ],
   "source": [
    "def transpose_matrix():\n",
    "    rows,cols=row_column_input()\n",
    "    print(\"Enter the elements of the first matrix:\")\n",
    "    matrix=input_matrix(rows, cols)\n",
    "    print(matrix)\n",
    "    transposed = np.zeros((cols, rows), dtype=int)\n",
    "    for j in range(cols):\n",
    "        for i in range(rows):\n",
    "            transposed[j][i] = matrix[i][j]\n",
    "    return transposed\n",
    "transpose_matrix()"
   ]
  },
  {
   "cell_type": "code",
   "execution_count": null,
   "metadata": {},
   "outputs": [],
   "source": [
    "def is_identity_matrix():\n",
    "    rows,cols=row_column_input()\n",
    "    print(\"Enter the elements of the first matrix:\")\n",
    "    matrix=input_matrix(rows, cols)\n",
    "    print(matrix)\n",
    "    if rows != cols:\n",
    "        return False\n",
    "    \n",
    "    for i in range(rows):\n",
    "        for j in range(cols):\n",
    "            if i == j:\n",
    "                if matrix[i][j] != 1:  \n",
    "                    return False\n",
    "            else:\n",
    "                if matrix[i][j] != 0: \n",
    "                    return False\n",
    "    return True\n",
    "\n",
    "if __name__ == \"__main__\":\n",
    "    if is_identity_matrix():\n",
    "        print(\"The matrix is an identity matrix.\")\n",
    "    else:\n",
    "        print(\"The matrix is not an identity matrix.\")\n"
   ]
  }
 ],
 "metadata": {
  "kernelspec": {
   "display_name": "env",
   "language": "python",
   "name": "python3"
  },
  "language_info": {
   "codemirror_mode": {
    "name": "ipython",
    "version": 3
   },
   "file_extension": ".py",
   "mimetype": "text/x-python",
   "name": "python",
   "nbconvert_exporter": "python",
   "pygments_lexer": "ipython3",
   "version": "3.13.0"
  }
 },
 "nbformat": 4,
 "nbformat_minor": 2
}
