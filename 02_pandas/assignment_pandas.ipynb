{
 "cells": [
  {
   "cell_type": "markdown",
   "metadata": {},
   "source": [
    "# <span style=\"color:#4B8BBE;\">Data Analysis Assignment on Stock Price Trends Using <span style=\"color:#FF4500;\">NumPy</span> and <span style=\"color:#FFD700;\">pandas</span></span>\n",
    "\n",
    "### <span style=\"background-color:#D3D3D3; padding: 3px;\">Dataset:</span> `stock_data.csv`\n",
    "\n",
    "**<span style=\"color:#2E8B57;\">Objective:</span>**  \n",
    "This assignment aims to deepen understanding of data manipulation, analysis, and statistical calculations using Python libraries **NumPy** and **pandas**. The **`stock_data.csv`** dataset contains historical stock price data with various columns, including:\n",
    "- **Date**\n",
    "- **Open**\n",
    "- **High**\n",
    "- **Low**\n",
    "- **Close**\n",
    "- **Adjusted Close**\n",
    "- **Volume**\n",
    "\n",
    "Through this assignment, you will perform data analysis and answer questions that provide insights into each stock’s **performance, volatility,** and **trading behavior**.\n",
    "\n",
    "---\n",
    "\n",
    "### <span style=\"background-color:#ADD8E6; padding: 3px;\">Assignment Scope:</span>\n",
    "\n",
    "- Calculate stock-specific statistics, such as highest trading volumes and daily return averages.\n",
    "- Explore stock volatility and **stability** over time.\n",
    "- Use time-based data grouping to gain insights into monthly and cumulative price trends.\n",
    "- Analyze trading volume trends and **price fluctuation patterns** to identify significant patterns.\n",
    "\n",
    "---\n",
    "\n",
    "### <span style=\"background-color:#FFD700; padding: 3px;\">Tools Required:</span>\n",
    "\n",
    "- **Python**\n",
    "- **NumPy**\n",
    "- **pandas**\n"
   ]
  },
  {
   "cell_type": "markdown",
   "metadata": {},
   "source": []
  },
  {
   "cell_type": "markdown",
   "metadata": {},
   "source": [
    "# Import the dataset"
   ]
  },
  {
   "cell_type": "code",
   "execution_count": 96,
   "metadata": {},
   "outputs": [
    {
     "data": {
      "text/html": [
       "<div>\n",
       "<style scoped>\n",
       "    .dataframe tbody tr th:only-of-type {\n",
       "        vertical-align: middle;\n",
       "    }\n",
       "\n",
       "    .dataframe tbody tr th {\n",
       "        vertical-align: top;\n",
       "    }\n",
       "\n",
       "    .dataframe thead th {\n",
       "        text-align: right;\n",
       "    }\n",
       "</style>\n",
       "<table border=\"1\" class=\"dataframe\">\n",
       "  <thead>\n",
       "    <tr style=\"text-align: right;\">\n",
       "      <th></th>\n",
       "      <th>Date</th>\n",
       "      <th>Stock Symbol</th>\n",
       "      <th>Open</th>\n",
       "      <th>High</th>\n",
       "      <th>Low</th>\n",
       "      <th>Close</th>\n",
       "      <th>Adjusted Close</th>\n",
       "      <th>Volume</th>\n",
       "    </tr>\n",
       "  </thead>\n",
       "  <tbody>\n",
       "    <tr>\n",
       "      <th>0</th>\n",
       "      <td>2022-01-03</td>\n",
       "      <td>AAPL</td>\n",
       "      <td>99.777893</td>\n",
       "      <td>100.385725</td>\n",
       "      <td>99.910470</td>\n",
       "      <td>100.036281</td>\n",
       "      <td>100.246683</td>\n",
       "      <td>3871650</td>\n",
       "    </tr>\n",
       "    <tr>\n",
       "      <th>1</th>\n",
       "      <td>2022-01-04</td>\n",
       "      <td>AAPL</td>\n",
       "      <td>99.439118</td>\n",
       "      <td>100.701557</td>\n",
       "      <td>99.891825</td>\n",
       "      <td>100.045284</td>\n",
       "      <td>101.453156</td>\n",
       "      <td>1686352</td>\n",
       "    </tr>\n",
       "    <tr>\n",
       "      <th>2</th>\n",
       "      <td>2022-01-05</td>\n",
       "      <td>AAPL</td>\n",
       "      <td>99.985518</td>\n",
       "      <td>101.427452</td>\n",
       "      <td>98.630588</td>\n",
       "      <td>100.065859</td>\n",
       "      <td>101.916657</td>\n",
       "      <td>4847853</td>\n",
       "    </tr>\n",
       "    <tr>\n",
       "      <th>3</th>\n",
       "      <td>2022-01-06</td>\n",
       "      <td>AAPL</td>\n",
       "      <td>99.199884</td>\n",
       "      <td>100.238233</td>\n",
       "      <td>98.789464</td>\n",
       "      <td>100.111677</td>\n",
       "      <td>98.552026</td>\n",
       "      <td>2967592</td>\n",
       "    </tr>\n",
       "    <tr>\n",
       "      <th>4</th>\n",
       "      <td>2022-01-07</td>\n",
       "      <td>AAPL</td>\n",
       "      <td>100.750519</td>\n",
       "      <td>101.366349</td>\n",
       "      <td>99.349254</td>\n",
       "      <td>100.150028</td>\n",
       "      <td>100.674140</td>\n",
       "      <td>2170599</td>\n",
       "    </tr>\n",
       "  </tbody>\n",
       "</table>\n",
       "</div>"
      ],
      "text/plain": [
       "         Date Stock Symbol        Open        High        Low       Close  \\\n",
       "0  2022-01-03         AAPL   99.777893  100.385725  99.910470  100.036281   \n",
       "1  2022-01-04         AAPL   99.439118  100.701557  99.891825  100.045284   \n",
       "2  2022-01-05         AAPL   99.985518  101.427452  98.630588  100.065859   \n",
       "3  2022-01-06         AAPL   99.199884  100.238233  98.789464  100.111677   \n",
       "4  2022-01-07         AAPL  100.750519  101.366349  99.349254  100.150028   \n",
       "\n",
       "   Adjusted Close   Volume  \n",
       "0      100.246683  3871650  \n",
       "1      101.453156  1686352  \n",
       "2      101.916657  4847853  \n",
       "3       98.552026  2967592  \n",
       "4      100.674140  2170599  "
      ]
     },
     "execution_count": 96,
     "metadata": {},
     "output_type": "execute_result"
    }
   ],
   "source": [
    "import numpy as np\n",
    "import pandas as pd\n",
    "df=pd.read_csv(\"stock_data.csv\")\n",
    "df.head()"
   ]
  },
  {
   "cell_type": "markdown",
   "metadata": {},
   "source": [
    "1. Calculate the average daily trading volume for each stock, and identify the stock with the lowest average trading volume."
   ]
  },
  {
   "cell_type": "code",
   "execution_count": 97,
   "metadata": {},
   "outputs": [
    {
     "data": {
      "text/plain": [
       "'AAPL'"
      ]
     },
     "execution_count": 97,
     "metadata": {},
     "output_type": "execute_result"
    }
   ],
   "source": [
    "all_stocks=df.groupby(\"Stock Symbol\")\n",
    "all_stocks_volume=all_stocks[\"Volume\"].mean()\n",
    "lowest_volume_stock=all_stocks_volume.idxmin()\n",
    "lowest_volume_stock"
   ]
  },
  {
   "cell_type": "markdown",
   "metadata": {},
   "source": [
    "2. For each stock, calculate the percentage of days in the year when the stock's closing price was higher than its opening price."
   ]
  },
  {
   "cell_type": "code",
   "execution_count": 98,
   "metadata": {},
   "outputs": [
    {
     "data": {
      "text/plain": [
       "Stock Symbol\n",
       "AAPL    50.769231\n",
       "AMZN    46.923077\n",
       "GOOG    48.846154\n",
       "MSFT    53.461538\n",
       "TSLA    49.615385\n",
       "dtype: float64"
      ]
     },
     "execution_count": 98,
     "metadata": {},
     "output_type": "execute_result"
    }
   ],
   "source": [
    "df[df[\"Close\"]>df[\"Open\"]].groupby(\"Stock Symbol\").size()*100/all_stocks.size()"
   ]
  },
  {
   "cell_type": "markdown",
   "metadata": {},
   "source": [
    "3. Calculate the highest monthly average closing price for each stock, and identify the month and stock with the overall highest average closing price."
   ]
  },
  {
   "cell_type": "code",
   "execution_count": 99,
   "metadata": {},
   "outputs": [
    {
     "name": "stdout",
     "output_type": "stream",
     "text": [
      "MSFT 2022-12\n"
     ]
    }
   ],
   "source": [
    "df['Date'] = pd.to_datetime(df['Date'])\n",
    "df[\"year_month\"]=df[\"Date\"].dt.to_period('M')\n",
    "monthly_avg_close = df.groupby(['Stock Symbol','year_month'])['Close'].mean()\n",
    "highest_monthly_avg_close_per_stock = monthly_avg_close.groupby(\"Stock Symbol\").max()\n",
    "stock_symbol_highest,month_highest=monthly_avg_close.idxmax()\n",
    "print(stock_symbol_highest, month_highest)"
   ]
  },
  {
   "cell_type": "markdown",
   "metadata": {},
   "source": [
    "4. Calculate the monthly total trading volume for each stock and find the month with the highest total volume for \"AAPL\""
   ]
  },
  {
   "cell_type": "code",
   "execution_count": 100,
   "metadata": {},
   "outputs": [
    {
     "name": "stdout",
     "output_type": "stream",
     "text": [
      "Stock Symbol  year_month\n",
      "AAPL          2022-01       61243141\n",
      "              2022-02       51633790\n",
      "              2022-03       68945087\n",
      "              2022-04       64536134\n",
      "              2022-05       63861394\n",
      "              2022-06       65316866\n",
      "              2022-07       54831688\n",
      "              2022-08       67703660\n",
      "              2022-09       61261647\n",
      "              2022-10       50058927\n",
      "              2022-11       64935185\n",
      "              2022-12       71912931\n",
      "AMZN          2022-01       59358628\n",
      "              2022-02       58502996\n",
      "              2022-03       78678504\n",
      "              2022-04       65231972\n",
      "              2022-05       67824576\n",
      "              2022-06       63514039\n",
      "              2022-07       56355045\n",
      "              2022-08       71764510\n",
      "              2022-09       53849611\n",
      "              2022-10       57747653\n",
      "              2022-11       62454106\n",
      "              2022-12       63850568\n",
      "GOOG          2022-01       61851798\n",
      "              2022-02       58938520\n",
      "              2022-03       71129012\n",
      "              2022-04       64238812\n",
      "              2022-05       68944494\n",
      "              2022-06       75149762\n",
      "              2022-07       60768932\n",
      "              2022-08       79251179\n",
      "              2022-09       76769727\n",
      "              2022-10       60087900\n",
      "              2022-11       65956909\n",
      "              2022-12       66426876\n",
      "MSFT          2022-01       60013934\n",
      "              2022-02       59677749\n",
      "              2022-03       61340168\n",
      "              2022-04       60613554\n",
      "              2022-05       65878373\n",
      "              2022-06       69873319\n",
      "              2022-07       72097357\n",
      "              2022-08       63742278\n",
      "              2022-09       59993112\n",
      "              2022-10       59279888\n",
      "              2022-11       62067069\n",
      "              2022-12       61363116\n",
      "TSLA          2022-01       61621654\n",
      "              2022-02       57365139\n",
      "              2022-03       78808642\n",
      "              2022-04       74482929\n",
      "              2022-05       62726617\n",
      "              2022-06       57982619\n",
      "              2022-07       52774500\n",
      "              2022-08       59621995\n",
      "              2022-09       68240092\n",
      "              2022-10       65342553\n",
      "              2022-11       56447919\n",
      "              2022-12       53454698\n",
      "Name: Volume, dtype: int64\n",
      "12\n"
     ]
    }
   ],
   "source": [
    "monthly_total_volume=df.groupby([\"Stock Symbol\", \"year_month\"])[\"Volume\"].sum()\n",
    "print(monthly_total_volume)\n",
    "month=monthly_total_volume[\"AAPL\"].idxmax()\n",
    "print(str(month)[5:])\n"
   ]
  },
  {
   "cell_type": "markdown",
   "metadata": {},
   "source": [
    "5. Identify the longest consecutive period (in days) when each stock’s closing price remained below its 30-day moving average."
   ]
  },
  {
   "cell_type": "code",
   "execution_count": 101,
   "metadata": {},
   "outputs": [],
   "source": [
    "# Code here"
   ]
  },
  {
   "cell_type": "markdown",
   "metadata": {},
   "source": [
    "6. Calculate the average daily price range (difference between High and Low) for each stock and find the stock with the highest average daily range."
   ]
  },
  {
   "cell_type": "code",
   "execution_count": 102,
   "metadata": {},
   "outputs": [
    {
     "name": "stdout",
     "output_type": "stream",
     "text": [
      "GOOG\n"
     ]
    }
   ],
   "source": [
    "df[\"Daily Range\"]=df[\"High\"]-df[\"Low\"]\n",
    "all_range_avg=df.groupby(\"Stock Symbol\")[\"Daily Range\"].mean()\n",
    "highet_average_daily_range=all_range_avg.idxmax()\n",
    "#print(all_range_avg)\n",
    "print(highet_average_daily_range)"
   ]
  },
  {
   "cell_type": "markdown",
   "metadata": {},
   "source": [
    "7. Calculate the cumulative product of daily returns for each stock and identify the stock with the lowest cumulative return."
   ]
  },
  {
   "cell_type": "code",
   "execution_count": 103,
   "metadata": {},
   "outputs": [],
   "source": [
    "# Code here"
   ]
  },
  {
   "cell_type": "markdown",
   "metadata": {},
   "source": [
    "8. Find the stock with the highest median adjusted closing price over the year."
   ]
  },
  {
   "cell_type": "code",
   "execution_count": 104,
   "metadata": {},
   "outputs": [
    {
     "data": {
      "text/plain": [
       "'AAPL'"
      ]
     },
     "execution_count": 104,
     "metadata": {},
     "output_type": "execute_result"
    }
   ],
   "source": [
    "all_stocks[\"Adjusted Close\"].median().idxmax()"
   ]
  },
  {
   "cell_type": "markdown",
   "metadata": {},
   "source": [
    "9. Calculate the standard deviation of the adjusted closing price for each stock, and identify the stock with the most stable prices (lowest standard deviation)."
   ]
  },
  {
   "cell_type": "code",
   "execution_count": 105,
   "metadata": {},
   "outputs": [
    {
     "data": {
      "text/plain": [
       "'AMZN'"
      ]
     },
     "execution_count": 105,
     "metadata": {},
     "output_type": "execute_result"
    }
   ],
   "source": [
    "all_stock_std=all_stocks[\"Adjusted Close\"].std()\n",
    "all_stock_std.idxmin()"
   ]
  },
  {
   "cell_type": "markdown",
   "metadata": {},
   "source": [
    "10. Identify the day with the highest volume-to-price ratio for each stock, where the volume-to-price ratio is defined as Volume / Close."
   ]
  },
  {
   "cell_type": "code",
   "execution_count": 112,
   "metadata": {},
   "outputs": [
    {
     "data": {
      "text/html": [
       "<div>\n",
       "<style scoped>\n",
       "    .dataframe tbody tr th:only-of-type {\n",
       "        vertical-align: middle;\n",
       "    }\n",
       "\n",
       "    .dataframe tbody tr th {\n",
       "        vertical-align: top;\n",
       "    }\n",
       "\n",
       "    .dataframe thead th {\n",
       "        text-align: right;\n",
       "    }\n",
       "</style>\n",
       "<table border=\"1\" class=\"dataframe\">\n",
       "  <thead>\n",
       "    <tr style=\"text-align: right;\">\n",
       "      <th></th>\n",
       "      <th>Date</th>\n",
       "      <th>Stock Symbol</th>\n",
       "    </tr>\n",
       "  </thead>\n",
       "  <tbody>\n",
       "    <tr>\n",
       "      <th>162</th>\n",
       "      <td>2022-08-17</td>\n",
       "      <td>AAPL</td>\n",
       "    </tr>\n",
       "    <tr>\n",
       "      <th>652</th>\n",
       "      <td>2022-07-06</td>\n",
       "      <td>AMZN</td>\n",
       "    </tr>\n",
       "    <tr>\n",
       "      <th>338</th>\n",
       "      <td>2022-04-21</td>\n",
       "      <td>GOOG</td>\n",
       "    </tr>\n",
       "    <tr>\n",
       "      <th>1189</th>\n",
       "      <td>2022-07-29</td>\n",
       "      <td>MSFT</td>\n",
       "    </tr>\n",
       "    <tr>\n",
       "      <th>880</th>\n",
       "      <td>2022-05-23</td>\n",
       "      <td>TSLA</td>\n",
       "    </tr>\n",
       "  </tbody>\n",
       "</table>\n",
       "</div>"
      ],
      "text/plain": [
       "           Date Stock Symbol\n",
       "162  2022-08-17         AAPL\n",
       "652  2022-07-06         AMZN\n",
       "338  2022-04-21         GOOG\n",
       "1189 2022-07-29         MSFT\n",
       "880  2022-05-23         TSLA"
      ]
     },
     "execution_count": 112,
     "metadata": {},
     "output_type": "execute_result"
    }
   ],
   "source": [
    "df[\"volume_price_ratio\"]=df[\"Volume\"]/df[\"Close\"]\n",
    "max_ratio_days = df.loc[df.groupby('Stock Symbol')['volume_price_ratio'].idxmax()]\n",
    "max_ratio_days=max_ratio_days[[\"Date\",\"Stock Symbol\"]]\n",
    "max_ratio_days\n"
   ]
  },
  {
   "cell_type": "code",
   "execution_count": null,
   "metadata": {},
   "outputs": [],
   "source": []
  }
 ],
 "metadata": {
  "kernelspec": {
   "display_name": "env",
   "language": "python",
   "name": "python3"
  },
  "language_info": {
   "codemirror_mode": {
    "name": "ipython",
    "version": 3
   },
   "file_extension": ".py",
   "mimetype": "text/x-python",
   "name": "python",
   "nbconvert_exporter": "python",
   "pygments_lexer": "ipython3",
   "version": "3.13.0"
  }
 },
 "nbformat": 4,
 "nbformat_minor": 2
}
